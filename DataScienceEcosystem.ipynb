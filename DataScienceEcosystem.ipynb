{
 "cells": [
  {
   "cell_type": "markdown",
   "id": "492a68eb-72ea-498f-bb4d-c0924d03db83",
   "metadata": {},
   "source": [
    "# Heading 1: Data Science Tools and Ecosystem"
   ]
  },
  {
   "cell_type": "markdown",
   "id": "4a8045ea-eee2-4541-8e48-353b0e096682",
   "metadata": {},
   "source": [
    "<blockquote> In this notebook, the Data Science Tools and Ecosystems that are summarized involve Data Science languages, Data Science libraries, arithmetic expressions which have been run with markdown and code cells</blockquote>"
   ]
  },
  {
   "cell_type": "markdown",
   "id": "1887c723-eff1-4976-b5b2-33094fede90e",
   "metadata": {},
   "source": [
    "**Objectives**\n",
    "- To create a markdown cell for introduction\n",
    "- To create a markdown cell to list data science languages\n",
    "- To create a markdown cell to list data science libraries\n",
    "- To create a markdown cell with a table of data science tools\n",
    "- To create markdown cell introducing arithmetic expression examples\n",
    "- To create code cells for calculations"
   ]
  },
  {
   "cell_type": "markdown",
   "id": "b617727f-cf25-431f-a9ef-e3a978b06e78",
   "metadata": {},
   "source": [
    "<blockquote>Some of the popular languages that Data Scientists use are:</blockquote>"
   ]
  },
  {
   "cell_type": "markdown",
   "id": "54152b55-ac15-4d19-a8f5-c81808773b07",
   "metadata": {},
   "source": [
    "1. Python\n",
    "2. R\n",
    "3. SQL\n",
    "4. Scala\n",
    "5. Java\n",
    "6. C++\n",
    "7. Julia\n",
    "8. PHP\n",
    "9. Ruby\n",
    "10. Visual Basic"
   ]
  },
  {
   "cell_type": "markdown",
   "id": "51a5d4d3-f08b-4b38-af5c-6138caac167c",
   "metadata": {},
   "source": [
    "<blockquote> Some of the commonly used libararies used by Data Scientists especially in Python include:</blockquote>"
   ]
  },
  {
   "cell_type": "markdown",
   "id": "1997ef35-ee21-48c1-8ff3-d226e6e90ae2",
   "metadata": {},
   "source": [
    "1. Scientific libraries in Python (Pandas, NumPy libaries)\n",
    "2. Data Visualization libraries in Python (Matplotlib, Seaborn)\n",
    "3. High level Machine Learning and Deep Learning libraries in Python (Scikit Learn, Keras)\n",
    "4. Deep Learning libraries in Python (TensorFlow, PyTorch)\n",
    "5. R libraries (ggplot)"
   ]
  },
  {
   "cell_type": "markdown",
   "id": "4309f4ee-066e-42d5-8334-efd755154a5d",
   "metadata": {},
   "source": [
    "| Data Science Tools|\n",
    "|--------------------|\n",
    "|Jupyter Notebooks|\n",
    "|Zeppelin Notebooks|\n",
    "|R Studio|"
   ]
  },
  {
   "cell_type": "markdown",
   "id": "dc56a22b-8ba0-4419-891c-9531af8cac77",
   "metadata": {},
   "source": [
    "### H3: Below are a few examples of evaluating arithmetic expressions in Python\n",
    "1. result = 3 + 2 # Output : 5\n",
    "2. result = 5 - 2 # Output : 3\n",
    "3. result = 3 * 2 # Output : 6\n",
    "4. result = 6 / 2 # Output : 3.0\n",
    "5. result = 7 // 2 # Output : 3\n",
    "6. result = 7 % 2 # Output : 1\n",
    "7. result = 3 ** 2 # Output: 9"
   ]
  },
  {
   "cell_type": "markdown",
   "id": "7b408696-f40c-48ef-a3ca-e2629d71003f",
   "metadata": {},
   "source": [
    "<blockquote> This is a simple arithmetic expression to multiply then add integers</blockquote>"
   ]
  },
  {
   "cell_type": "code",
   "execution_count": 1,
   "id": "e0566731-8420-424e-8463-21d5122c7c07",
   "metadata": {},
   "outputs": [
    {
     "data": {
      "text/plain": [
       "17"
      ]
     },
     "execution_count": 1,
     "metadata": {},
     "output_type": "execute_result"
    }
   ],
   "source": [
    "result = (3 * 4) + 5\n",
    "result"
   ]
  },
  {
   "cell_type": "markdown",
   "id": "72b98b15-481e-4ab5-8950-5b9f3fe4b573",
   "metadata": {},
   "source": [
    "<blockquote> This will convert 200 minutes to hours by dividing by 60</blockquote>"
   ]
  },
  {
   "cell_type": "code",
   "execution_count": 1,
   "id": "c6f5998d-1abf-4bbe-8d64-bc2a09e3e37a",
   "metadata": {},
   "outputs": [],
   "source": [
    "hours, minutes = divmod (200, 60)"
   ]
  },
  {
   "cell_type": "markdown",
   "id": "b0ce4953-9f61-4aea-9981-5d9c49fbe490",
   "metadata": {},
   "source": [
    "## Author\n",
    "Mitasha Mitra"
   ]
  },
  {
   "cell_type": "code",
   "execution_count": null,
   "id": "008ca817-5acd-45d8-84b1-e4cb5f2affcf",
   "metadata": {},
   "outputs": [],
   "source": []
  }
 ],
 "metadata": {
  "kernelspec": {
   "display_name": "Python 3 (ipykernel)",
   "language": "python",
   "name": "python3"
  },
  "language_info": {
   "codemirror_mode": {
    "name": "ipython",
    "version": 3
   },
   "file_extension": ".py",
   "mimetype": "text/x-python",
   "name": "python",
   "nbconvert_exporter": "python",
   "pygments_lexer": "ipython3",
   "version": "3.11.9"
  }
 },
 "nbformat": 4,
 "nbformat_minor": 5
}
